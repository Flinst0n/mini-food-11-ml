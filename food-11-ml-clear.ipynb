{
 "cells": [
  {
   "cell_type": "markdown",
   "metadata": {
    "id": "W-p1SqnVkqY7"
   },
   "source": [
    "# Hungrig auf KI?"
   ]
  },
  {
   "cell_type": "markdown",
   "metadata": {
    "id": "-46LpjGx4OFX"
   },
   "source": [
    "## Download the Data"
   ]
  },
  {
   "cell_type": "code",
   "execution_count": null,
   "metadata": {
    "colab": {
     "base_uri": "https://localhost:8080/"
    },
    "id": "zqaNWmE2W3ld",
    "outputId": "38800e54-4a79-4534-93fb-37a253836974",
    "scrolled": true
   },
   "outputs": [],
   "source": [
    "!git clone https://github.com/Flinst0n/mini-food-11"
   ]
  },
  {
   "cell_type": "code",
   "execution_count": null,
   "metadata": {
    "colab": {
     "base_uri": "https://localhost:8080/"
    },
    "id": "FMcdh15hXYXh",
    "outputId": "35d405a8-c306-4424-964f-ec60c0c768d6",
    "scrolled": true
   },
   "outputs": [],
   "source": [
    "%cd mini-food-11"
   ]
  },
  {
   "cell_type": "code",
   "execution_count": null,
   "metadata": {
    "colab": {
     "base_uri": "https://localhost:8080/"
    },
    "id": "zZ2xf7kNnPrX",
    "outputId": "0a3ed89f-c70a-4e92-8d32-63e3457273b7",
    "scrolled": true
   },
   "outputs": [],
   "source": [
    "!unzip \"*.zip\""
   ]
  },
  {
   "cell_type": "code",
   "execution_count": null,
   "metadata": {
    "colab": {
     "base_uri": "https://localhost:8080/"
    },
    "id": "zgunJxrnnkPL",
    "outputId": "c60b2fc5-b6fa-4b68-fa6d-2e6109d4d5c2",
    "scrolled": true
   },
   "outputs": [],
   "source": [
    "%cd /content/"
   ]
  },
  {
   "cell_type": "markdown",
   "metadata": {
    "id": "FX2RXU3Enpl3"
   },
   "source": [
    "## Import the data"
   ]
  },
  {
   "cell_type": "code",
   "execution_count": null,
   "metadata": {
    "id": "A54zc27pndMx",
    "scrolled": true
   },
   "outputs": [],
   "source": [
    "import fastai.vision\n",
    "\n",
    "DATA_PATH = \"mini-food-11/\""
   ]
  },
  {
   "cell_type": "code",
   "execution_count": null,
   "metadata": {
    "id": "OvjWeQLPnmro",
    "scrolled": true
   },
   "outputs": [],
   "source": [
    "data = fastai.vision.ImageDataBunch.from_folder(DATA_PATH, train=\".\", valid_pct=0.2,seed=747, ds_tfms=fastai.vision.get_transforms(), size=224, num_workers=0).normalize(fastai.vision.imagenet_stats)"
   ]
  },
  {
   "cell_type": "markdown",
   "metadata": {
    "id": "S26Scm6wn_fp"
   },
   "source": [
    "## Inspect the Data Set"
   ]
  },
  {
   "cell_type": "markdown",
   "metadata": {
    "id": "N_FRelLW4yeN"
   },
   "source": [
    "### Show classes and statistics"
   ]
  },
  {
   "cell_type": "code",
   "execution_count": null,
   "metadata": {
    "colab": {
     "base_uri": "https://localhost:8080/"
    },
    "id": "VqAxBXXloCvh",
    "outputId": "fcf84d85-b818-4798-e450-9059a4e833eb",
    "scrolled": true
   },
   "outputs": [],
   "source": [
    "data.classes, data.c, len(data.train_ds), len(data.valid_ds)"
   ]
  },
  {
   "cell_type": "code",
   "execution_count": null,
   "metadata": {
    "colab": {
     "base_uri": "https://localhost:8080/",
     "height": 1000
    },
    "id": "TyiEFGk2oEe4",
    "outputId": "44695ea5-f492-4518-8562-e876b40ccafb",
    "scrolled": false
   },
   "outputs": [],
   "source": [
    "data.show_batch(rows=10, figsize=(16,16))"
   ]
  },
  {
   "cell_type": "markdown",
   "metadata": {
    "id": "2aCrsN0OoDCZ"
   },
   "source": [
    "# Machine Learning"
   ]
  },
  {
   "cell_type": "markdown",
   "metadata": {
    "id": "gVW2P5Zg5hqO"
   },
   "source": [
    "## Create model"
   ]
  },
  {
   "cell_type": "code",
   "execution_count": null,
   "metadata": {
    "colab": {
     "base_uri": "https://localhost:8080/",
     "height": 84,
     "referenced_widgets": [
      "269ca9ecedda48849433ffbaa9e2a0e9",
      "28aa898fe7c6481fa1bd159f662b71ce",
      "134205acf9b546ee896eb658cf46bf8e",
      "06c646b9779c484bb6f64cc5fb123008",
      "f180e1869c024c199cc36a20abb57625",
      "74c5f58165114e2ca42ac91d12e4b0fa",
      "5818a893847e425ab1237c37fa09db0e",
      "39c62ff2e729447995a0c49f3d9df69a"
     ]
    },
    "id": "1hJT78gxoZSJ",
    "outputId": "a407ca23-1685-41f3-fdaa-e0a98c5979a6",
    "scrolled": true
   },
   "outputs": [],
   "source": [
    "learner = fastai.vision.cnn_learner(data, fastai.vision.models.resnet34, metrics=[fastai.vision.accuracy])"
   ]
  },
  {
   "cell_type": "markdown",
   "metadata": {
    "id": "HrCcMJwv9S6K"
   },
   "source": [
    "## Set learnable layers"
   ]
  },
  {
   "cell_type": "code",
   "execution_count": null,
   "metadata": {
    "id": "pjlGqLia9U6P",
    "scrolled": true
   },
   "outputs": [],
   "source": [
    "learner.freeze()"
   ]
  },
  {
   "cell_type": "markdown",
   "metadata": {
    "id": "w77NqzYx5kvv"
   },
   "source": [
    "## Train the model on the training data set"
   ]
  },
  {
   "cell_type": "code",
   "execution_count": null,
   "metadata": {
    "colab": {
     "base_uri": "https://localhost:8080/",
     "height": 141
    },
    "id": "bglXuUQ5qeSi",
    "outputId": "4d882bfb-5749-4f16-9ca7-187a9e07d008",
    "scrolled": true
   },
   "outputs": [],
   "source": [
    "number_epochs = 3\n",
    "learning_rate = 1e-2\n",
    "\n",
    "learner.fit_one_cycle(number_epochs, learning_rate)"
   ]
  },
  {
   "cell_type": "code",
   "execution_count": null,
   "metadata": {
    "colab": {
     "base_uri": "https://localhost:8080/",
     "height": 279
    },
    "id": "oBmCVey5s6N7",
    "outputId": "c3a6f322-24e2-430e-b774-9886e03d06ba",
    "scrolled": true
   },
   "outputs": [],
   "source": [
    "learner.recorder.plot_losses()"
   ]
  },
  {
   "cell_type": "markdown",
   "metadata": {
    "id": "ZKK4JauV5pQ3"
   },
   "source": [
    "## Analyze the model on the test data set"
   ]
  },
  {
   "cell_type": "code",
   "execution_count": null,
   "metadata": {
    "colab": {
     "base_uri": "https://localhost:8080/",
     "height": 17
    },
    "id": "U6A8IrB6tAVC",
    "outputId": "225ee65c-4bc6-401f-f579-4aba630423d0",
    "scrolled": true
   },
   "outputs": [],
   "source": [
    "interp = fastai.vision.ClassificationInterpretation.from_learner(learner)"
   ]
  },
  {
   "cell_type": "code",
   "execution_count": null,
   "metadata": {
    "colab": {
     "base_uri": "https://localhost:8080/",
     "height": 1000
    },
    "id": "qps2UcVFxkff",
    "outputId": "62cca50e-a10a-4849-c52b-fe47eab19e96",
    "scrolled": false
   },
   "outputs": [],
   "source": [
    "interp.plot_top_losses(30, figsize=(32,32), heatmap=True)"
   ]
  },
  {
   "cell_type": "code",
   "execution_count": null,
   "metadata": {
    "colab": {
     "base_uri": "https://localhost:8080/",
     "height": 623
    },
    "id": "L5Oa1Dg9tGmC",
    "outputId": "1759c7aa-b745-4076-e548-e3565e57d8cf",
    "scrolled": false
   },
   "outputs": [],
   "source": [
    "interp.plot_confusion_matrix(figsize=(10,10), dpi=60)"
   ]
  },
  {
   "cell_type": "code",
   "execution_count": null,
   "metadata": {
    "colab": {
     "base_uri": "https://localhost:8080/",
     "height": 1000
    },
    "id": "w7FYmQJztht5",
    "outputId": "146f20a0-e9b8-4622-e8a5-8dccc8997a94",
    "scrolled": false
   },
   "outputs": [],
   "source": [
    "learner.show_results()"
   ]
  },
  {
   "cell_type": "markdown",
   "metadata": {
    "id": "FCjDpAJN6mmy"
   },
   "source": [
    "## Refine the model"
   ]
  },
  {
   "cell_type": "code",
   "execution_count": null,
   "metadata": {
    "id": "lGqRSExFN1Dy",
    "scrolled": true
   },
   "outputs": [],
   "source": [
    "learner.unfreeze()"
   ]
  },
  {
   "cell_type": "code",
   "execution_count": null,
   "metadata": {
    "colab": {
     "base_uri": "https://localhost:8080/",
     "height": 355
    },
    "id": "pYkVzfePN23I",
    "outputId": "2e9373af-6edb-4ea3-c187-d4768b108591",
    "scrolled": true
   },
   "outputs": [],
   "source": [
    "learner.fit_one_cycle(10, 1e-6)"
   ]
  },
  {
   "cell_type": "code",
   "execution_count": null,
   "metadata": {
    "id": "gLtkhUVVDiP_",
    "scrolled": true
   },
   "outputs": [],
   "source": []
  }
 ],
 "metadata": {
  "accelerator": "GPU",
  "colab": {
   "collapsed_sections": [],
   "name": "lhind-ai-food-11-breakout-fasti-ai-v3-working-copy-for-me",
   "provenance": []
  },
  "kernelspec": {
   "display_name": "Python 3",
   "language": "python",
   "name": "python3"
  },
  "language_info": {
   "codemirror_mode": {
    "name": "ipython",
    "version": 3
   },
   "file_extension": ".py",
   "mimetype": "text/x-python",
   "name": "python",
   "nbconvert_exporter": "python",
   "pygments_lexer": "ipython3",
   "version": "3.8.5"
  },
  "widgets": {
   "application/vnd.jupyter.widget-state+json": {
    "06c646b9779c484bb6f64cc5fb123008": {
     "model_module": "@jupyter-widgets/controls",
     "model_name": "HTMLModel",
     "state": {
      "_dom_classes": [],
      "_model_module": "@jupyter-widgets/controls",
      "_model_module_version": "1.5.0",
      "_model_name": "HTMLModel",
      "_view_count": null,
      "_view_module": "@jupyter-widgets/controls",
      "_view_module_version": "1.5.0",
      "_view_name": "HTMLView",
      "description": "",
      "description_tooltip": null,
      "layout": "IPY_MODEL_39c62ff2e729447995a0c49f3d9df69a",
      "placeholder": "​",
      "style": "IPY_MODEL_5818a893847e425ab1237c37fa09db0e",
      "value": " 83.3M/83.3M [00:09&lt;00:00, 9.38MB/s]"
     }
    },
    "134205acf9b546ee896eb658cf46bf8e": {
     "model_module": "@jupyter-widgets/controls",
     "model_name": "FloatProgressModel",
     "state": {
      "_dom_classes": [],
      "_model_module": "@jupyter-widgets/controls",
      "_model_module_version": "1.5.0",
      "_model_name": "FloatProgressModel",
      "_view_count": null,
      "_view_module": "@jupyter-widgets/controls",
      "_view_module_version": "1.5.0",
      "_view_name": "ProgressView",
      "bar_style": "success",
      "description": "100%",
      "description_tooltip": null,
      "layout": "IPY_MODEL_74c5f58165114e2ca42ac91d12e4b0fa",
      "max": 87306240,
      "min": 0,
      "orientation": "horizontal",
      "style": "IPY_MODEL_f180e1869c024c199cc36a20abb57625",
      "value": 87306240
     }
    },
    "269ca9ecedda48849433ffbaa9e2a0e9": {
     "model_module": "@jupyter-widgets/controls",
     "model_name": "HBoxModel",
     "state": {
      "_dom_classes": [],
      "_model_module": "@jupyter-widgets/controls",
      "_model_module_version": "1.5.0",
      "_model_name": "HBoxModel",
      "_view_count": null,
      "_view_module": "@jupyter-widgets/controls",
      "_view_module_version": "1.5.0",
      "_view_name": "HBoxView",
      "box_style": "",
      "children": [
       "IPY_MODEL_134205acf9b546ee896eb658cf46bf8e",
       "IPY_MODEL_06c646b9779c484bb6f64cc5fb123008"
      ],
      "layout": "IPY_MODEL_28aa898fe7c6481fa1bd159f662b71ce"
     }
    },
    "28aa898fe7c6481fa1bd159f662b71ce": {
     "model_module": "@jupyter-widgets/base",
     "model_name": "LayoutModel",
     "state": {
      "_model_module": "@jupyter-widgets/base",
      "_model_module_version": "1.2.0",
      "_model_name": "LayoutModel",
      "_view_count": null,
      "_view_module": "@jupyter-widgets/base",
      "_view_module_version": "1.2.0",
      "_view_name": "LayoutView",
      "align_content": null,
      "align_items": null,
      "align_self": null,
      "border": null,
      "bottom": null,
      "display": null,
      "flex": null,
      "flex_flow": null,
      "grid_area": null,
      "grid_auto_columns": null,
      "grid_auto_flow": null,
      "grid_auto_rows": null,
      "grid_column": null,
      "grid_gap": null,
      "grid_row": null,
      "grid_template_areas": null,
      "grid_template_columns": null,
      "grid_template_rows": null,
      "height": null,
      "justify_content": null,
      "justify_items": null,
      "left": null,
      "margin": null,
      "max_height": null,
      "max_width": null,
      "min_height": null,
      "min_width": null,
      "object_fit": null,
      "object_position": null,
      "order": null,
      "overflow": null,
      "overflow_x": null,
      "overflow_y": null,
      "padding": null,
      "right": null,
      "top": null,
      "visibility": null,
      "width": null
     }
    },
    "39c62ff2e729447995a0c49f3d9df69a": {
     "model_module": "@jupyter-widgets/base",
     "model_name": "LayoutModel",
     "state": {
      "_model_module": "@jupyter-widgets/base",
      "_model_module_version": "1.2.0",
      "_model_name": "LayoutModel",
      "_view_count": null,
      "_view_module": "@jupyter-widgets/base",
      "_view_module_version": "1.2.0",
      "_view_name": "LayoutView",
      "align_content": null,
      "align_items": null,
      "align_self": null,
      "border": null,
      "bottom": null,
      "display": null,
      "flex": null,
      "flex_flow": null,
      "grid_area": null,
      "grid_auto_columns": null,
      "grid_auto_flow": null,
      "grid_auto_rows": null,
      "grid_column": null,
      "grid_gap": null,
      "grid_row": null,
      "grid_template_areas": null,
      "grid_template_columns": null,
      "grid_template_rows": null,
      "height": null,
      "justify_content": null,
      "justify_items": null,
      "left": null,
      "margin": null,
      "max_height": null,
      "max_width": null,
      "min_height": null,
      "min_width": null,
      "object_fit": null,
      "object_position": null,
      "order": null,
      "overflow": null,
      "overflow_x": null,
      "overflow_y": null,
      "padding": null,
      "right": null,
      "top": null,
      "visibility": null,
      "width": null
     }
    },
    "5818a893847e425ab1237c37fa09db0e": {
     "model_module": "@jupyter-widgets/controls",
     "model_name": "DescriptionStyleModel",
     "state": {
      "_model_module": "@jupyter-widgets/controls",
      "_model_module_version": "1.5.0",
      "_model_name": "DescriptionStyleModel",
      "_view_count": null,
      "_view_module": "@jupyter-widgets/base",
      "_view_module_version": "1.2.0",
      "_view_name": "StyleView",
      "description_width": ""
     }
    },
    "74c5f58165114e2ca42ac91d12e4b0fa": {
     "model_module": "@jupyter-widgets/base",
     "model_name": "LayoutModel",
     "state": {
      "_model_module": "@jupyter-widgets/base",
      "_model_module_version": "1.2.0",
      "_model_name": "LayoutModel",
      "_view_count": null,
      "_view_module": "@jupyter-widgets/base",
      "_view_module_version": "1.2.0",
      "_view_name": "LayoutView",
      "align_content": null,
      "align_items": null,
      "align_self": null,
      "border": null,
      "bottom": null,
      "display": null,
      "flex": null,
      "flex_flow": null,
      "grid_area": null,
      "grid_auto_columns": null,
      "grid_auto_flow": null,
      "grid_auto_rows": null,
      "grid_column": null,
      "grid_gap": null,
      "grid_row": null,
      "grid_template_areas": null,
      "grid_template_columns": null,
      "grid_template_rows": null,
      "height": null,
      "justify_content": null,
      "justify_items": null,
      "left": null,
      "margin": null,
      "max_height": null,
      "max_width": null,
      "min_height": null,
      "min_width": null,
      "object_fit": null,
      "object_position": null,
      "order": null,
      "overflow": null,
      "overflow_x": null,
      "overflow_y": null,
      "padding": null,
      "right": null,
      "top": null,
      "visibility": null,
      "width": null
     }
    },
    "f180e1869c024c199cc36a20abb57625": {
     "model_module": "@jupyter-widgets/controls",
     "model_name": "ProgressStyleModel",
     "state": {
      "_model_module": "@jupyter-widgets/controls",
      "_model_module_version": "1.5.0",
      "_model_name": "ProgressStyleModel",
      "_view_count": null,
      "_view_module": "@jupyter-widgets/base",
      "_view_module_version": "1.2.0",
      "_view_name": "StyleView",
      "bar_color": null,
      "description_width": "initial"
     }
    }
   }
  }
 },
 "nbformat": 4,
 "nbformat_minor": 1
}
